{
 "cells": [
  {
   "cell_type": "markdown",
   "metadata": {},
   "source": [
    "# Nuisance Attribute Projection\n",
    "# 1 Introduaction\n",
    "## 1.2 Support Vector Machine\n",
    "\n",
    "支持向量机基本公式为: \n",
    "$$  f(x) = \\sum_{i=1}^{N} \\lambda_i K(z, z_i) + b $$\n",
    "$$  K(z, z_i) = \\phi(z) . \\phi(z_i) $$ \n",
    "\n",
    "X 是某种类型的特征空间, 可能是核函数映射后特征空间, 也可以是原始空间,   \n",
    "NAP 的假设原理是信道相关的信息 是 X空间的一个低维子空间, NAP映射矩阵 能够将 X特征 映射到 去除扰动子空间 后的低维识别空间中.  \n",
    "X映射到低维识别空间后, 大部分的识别信息就不会被影响.  \n",
    "\n"
   ]
  },
  {
   "cell_type": "markdown",
   "metadata": {},
   "source": [
    "# 2 Nuisan Attribute Projection\n",
    "有很多方法减小扰动信息,  映射方法 因为多个优点 是一个方便有效的方法  \n",
    "1 应用映射的简单性   \n",
    "2 不需要去建模学习 扰动属性, 因为一般扰动属性补偿(信道补偿)方法都需要 建模这些属性信息, 然后在分类器中应用补偿框架.  这样的方法一是复杂, 二效果也不如直接去除 扰动属性空间效果好.  \n",
    "  \n",
    "  \n",
    "\n",
    "## 2.1  Projection\n",
    "映射矩阵 目的就是 移除 特征向量的 一些特定子空间方向.  我们需要找到一个包含大量扰动信息的子空间, 然后找到一个映射矩阵, 去掉这些子空间方向.  \n",
    "\n",
    "扰动属性映射矩阵 可以写为:  \n",
    "$$　 P = 1 - V V^t $$  \n",
    "V 是一个正交类向量方阵，　P的秩 << dim(X) 这样映射之后, 会得到 去除了 扰动属性的识别子空间.  \n",
    "为训练出P, 需要 有监督的 扰动属性标签, 或者 期望属性标签.  \n",
    "\n",
    "**从扰动属性标签中, 先获得一个 信息矩阵W, W对扰动属性进行标记, 标记两个特征向量 是否具有扰动差异, 具有扰动差异 才能通过协方差找到最大扰动方向.**   \n",
    "\n",
    "原理就是 $min \\delta$, 通过最小化 具有相同识别信息 不同扰动信息的样本间距离, 找到映射矩阵P, 去除掉 X空间中的扰动子空间. \n",
    "$$ \\delta = \\sum_{ij} Wij |P(iv_{i} - iv_{j})|^2 $$\n",
    "原理本质是, 最小化扰动样本间距离, 实现去掉扰动信息的目的.  \n",
    "\n",
    "\n",
    "### 2.1.1 2.1.2  推导   \n",
    "  \n",
    "   \n",
    "## 2.2  kernel version of NAP equation \n",
    "## 2.3  kernel version NAP Usage\n",
    "  \n",
    "  \n",
    "## 2.4 Effect of NAP on the figure of merit \n",
    "NAP 的效果   \n",
    "  \n",
    "### 2.4.1 average interpoints distance\n",
    "平均点间距离 \n",
    "推导经过映射后平均点间距离, 经过扰动属性投影之后, 一定会变小, 这样扰动属性空间向量的移除, 会导致 相同类别内点间距离变小, 识别信息就不收干扰.   \n",
    "\n",
    "### 2.4.2 examination of $\\delta_0 $ and $\\delta^{\\'}$\n",
    "通过 原理 $\\detal$ 的第一二部分, 来检验 NAP的有效性.  \n",
    "经过推到 第一部分的结果就是 扰动属性变换矩阵 $ AZ(W)A^t$的特征值累和, 第二部 是 扰动属性变换矩阵移除前k特征值的累和, 这样效果明显.      \n",
    "   \n",
    "   \n",
    "## 2.5 Transaltion invariance\n",
    "平移不变性\n",
    " "
   ]
  },
  {
   "cell_type": "markdown",
   "metadata": {},
   "source": [
    "# 3 Extension of NAP\n",
    "## 3.1 Multiple Nuisance Attributes \n",
    "在分类任务中, 扰动属性可能不止一类, 例如 sre 任务中 扰动属性由 1 channel  2 session \n",
    "所以可以通过增加 信息矩阵矩阵W 来实现 考虑多种类型的扰动属性.  \n",
    "\n",
    "方法1:   \n",
    "\n",
    "$$ W_{combine} = \\alpha W_{channel} + \\beta W_{session} - \\gamma W_{spker} $$  \n",
    "\n",
    "\n",
    "方法2:  \n",
    "第二种方法是串联多个映射矩阵P, 例如由两种类型的扰动属性 channel  session ,   \n",
    "1 先计算出其中一种eg channel的扰动映射矩阵 $P_{channel}$ , 然后对X进行变换 得到 $P_{channel} X$, \n",
    "2 然后 在 $P_{channel} X$ 基础上 计算扰动矩阵 $P_{session}$ 最后得到 $P_{session}P_{channel} X$ \n",
    "这种方法要求训练是顺序训练, 不能一个一个单独进行训练, 后续的矩阵训练, 使用的数据是前向矩阵映射结果.  \n",
    "  \n",
    "  \n",
    "## 3.2 Weighting of Utterences \n",
    "utt 权重\n",
    "v 是一个 所有 utt的权重向量 那么可以修改 信息矩阵W 为:  \n",
    "$$ W_{weight} = diag(v)^{1/2} W diag(v)^{1/2} $$ \n",
    "  \n",
    "  \n",
    "## 3.3 Normalizing Weight Matrix Components \n",
    "矩阵组件 权重正则化\n",
    ".... ignored maybe see next time\n",
    "\n",
    "\n"
   ]
  },
  {
   "cell_type": "markdown",
   "metadata": {},
   "source": [
    "# 4 Alternative Methods of Training a NAP Projection \n",
    "## 4.1 Differences of Channel Means\n",
    "信道均值差异\n",
    "一个极简单版本的信道补偿方法, 简单的将不同信道样本均值, 例如两种信道 channel 和 electric \n",
    "$$ v_0 = A(\\frac{1_{channel}}{n_{channel}} - \\frac{1_{electric}}{n_{electric}})$$\n",
    "v0 需要正则化一下:  \n",
    "$$ v = \\frac{v_0}{||v_0||} $$   \n",
    "   \n",
    "这样的简化版, 只得到降低一维的子空间, 效果和NAP(rank=1) 时效果一样.   \n",
    "如果由k个不同类型信道, 这样会可以成对的构建 v0 v1 .. v_{k-1}, 这样也有一定提升. 但不是很大, 因为这些扰动子空间会有重合  \n",
    "  \n",
    "  \n",
    "\n",
    "\n"
   ]
  },
  {
   "cell_type": "markdown",
   "metadata": {},
   "source": [
    "# 5 Application of NAP \n",
    "\n",
    "## so much .. read next time \n"
   ]
  },
  {
   "cell_type": "markdown",
   "metadata": {},
   "source": [
    "# 6 Methods\n",
    "这章主要描述算法, 提供一些伪代码, 希望有助于实现.   \n",
    "\n",
    "## 6.1 The expansion space NAP trainning \n",
    "映射后空间 NAP 训练  \n"
   ]
  },
  {
   "cell_type": "markdown",
   "metadata": {},
   "source": [
    "# 7 Result \n",
    "对比了各种情况的结果, \n",
    "1 1c 8c 分别代表不同数量的信道数量 1c 一个信道语料, 8c 8个信道语料 \n",
    "2 测试 \n",
    "    1 $W_{session}$    \n",
    "    2 $W_{channel}$    \n",
    "    3 $W = \\alpha W_{session} + \\beta W_{channel} $   \n",
    "3 测试 使用 \n",
    "    1 $W = \\alpha W_{session} + \\beta W_{channel} $   \n",
    "    2 串联不同映射矩阵 $ P = P_{channel} P_{session} $ \n",
    "   \n",
    "   \n",
    "   \n",
    "   \n",
    "测试结果显示: \n",
    "Enrollment   NAPCorank   EER    minDCF\n",
    "\n",
    "$W_{session}$  结果最佳: \n",
    "     \n",
    "    1c baseline  9.27% 0.0375\n",
    "    1c 16        8.05% 0.0336\n",
    "    8c baseline  4.93% 0.0202\n",
    "    8c 128       3.63% 0.0156  -- BEST\n",
    "    \n",
    "$W = \\alpha W_{session} + \\beta W_{channel} $  $\\alpha=1, \\beta=10$ 结果稍差:  \n",
    "     \n",
    "    1c 8         8.70% 0.0357\n",
    "    8c 256       3.80% 0.0152\n",
    "$W_{channel}$  稍差: \n",
    "    \n",
    "    1c baseline  9.27% 0.0375\n",
    "    1c 8         8.70% 0.0368\n",
    "    8c baseline  4.93% 0.0202\n",
    "    8c 256       4.30% 0.0162\n",
    "\n",
    "串联映射方法: 不成功, 不成功,为什么论文要写, 提一句不就得了\n"
   ]
  }
 ],
 "metadata": {
  "kernelspec": {
   "display_name": "Python 3",
   "language": "python",
   "name": "python3"
  },
  "language_info": {
   "codemirror_mode": {
    "name": "ipython",
    "version": 3
   },
   "file_extension": ".py",
   "mimetype": "text/x-python",
   "name": "python",
   "nbconvert_exporter": "python",
   "pygments_lexer": "ipython3",
   "version": "3.5.2"
  }
 },
 "nbformat": 4,
 "nbformat_minor": 2
}
