{
 "cells": [
  {
   "cell_type": "markdown",
   "metadata": {},
   "source": [
    "# 遍历列表\n",
    "listdir 方法: https://www.cnblogs.com/renfanzi/p/8243777.html\n",
    "    这种方法与ls相同  \n",
    "    \n",
    "os.walk 方法: https://www.cnblogs.com/ivictor/p/4362463.html\n",
    "    这种方法会递归进行"
   ]
  },
  {
   "cell_type": "code",
   "execution_count": 8,
   "metadata": {},
   "outputs": [
    {
     "name": "stdout",
     "output_type": "stream",
     "text": [
      "./\n",
      "['test', '.ipynb_checkpoints']\n",
      "['python.ipynb']\n",
      "./test\n",
      "[]\n",
      "[]\n",
      "./.ipynb_checkpoints\n",
      "[]\n",
      "['python-checkpoint.ipynb']\n"
     ]
    }
   ],
   "source": [
    "import os\n",
    "for root, dir, file in os.walk('./'):\n",
    "    print(root)\n",
    "    print(dir)\n",
    "    print(file)"
   ]
  },
  {
   "cell_type": "markdown",
   "metadata": {},
   "source": [
    "# python执行系统命令\n",
    "## os.system(\"some_command with args\")\n",
    "将命令以及參数传递给你的系统shell。\n",
    "这非常好，由于你能够用这样的方法同一时候执行多个命令而且能够设置管道以及输入输出重定向。比方：\n",
    "os.system(\"some_command < input_file | another_command > output_file\")\n",
    "然而，尽管这非常方便，可是你须要手动处理shell字符的转义，比方空格等。\n",
    "此外。这也仅仅能让你执行简单的shell命令并且不能执行外部程序。\n",
    "\n",
    "**返回值**: \n",
    "该方法在调用完shell脚本后，返回一个16位的二进制数，\n",
    "低位为杀死所调用脚本的信号号码，高位为脚本的退出状态码，\n",
    "即脚本中“exit 1”的代码执行后，os.system函数返回值的高位数则是1，如果低位数是0的情况下, 则函数的返回值是0×100,换算为10进制得到256。\n",
    "注意: 这个方法只是执行命令, 但是命令并不能获得返回结果, 想要 ls 等出现的结果, 需要使用os.popen().\n",
    "\n",
    "eg:\n",
    "test.sh：                                                                                                           \n",
    "#!/bin/bash\n",
    "echo \"hello world!\" \n",
    "exit 3\n",
    "\n",
    "如果我们需要获得os.system的正确返回值，那使用位移运算可以还原返回值： \n",
    "n = os.system(test.sh) \n",
    "n >> 8 \n",
    "3"
   ]
  },
  {
   "cell_type": "code",
   "execution_count": 1,
   "metadata": {},
   "outputs": [
    {
     "data": {
      "text/plain": [
       "0"
      ]
     },
     "execution_count": 1,
     "metadata": {},
     "output_type": "execute_result"
    }
   ],
   "source": [
    "import os\n",
    "os.system(\"ls\")"
   ]
  },
  {
   "cell_type": "markdown",
   "metadata": {},
   "source": [
    "## os.popen(cmd)\n",
    "这种调用方式是通过管道的方式来实现，函数返回一个file-like的对象，里面的内容是脚本输出的内容（可简单理解为echo输出的内容）。使用os.popen调用test.sh的情况： \n",
    "\n",
    "file = os.popen(test.sh) \n",
    "file.read()\n",
    "‘hello world!\\n’\n",
    "\n",
    "明显地，像调用\"ls\"这样的shell命令，应该使用popen的方法来获得内容。"
   ]
  },
  {
   "cell_type": "code",
   "execution_count": 3,
   "metadata": {},
   "outputs": [
    {
     "data": {
      "text/plain": [
       "'python.ipynb\\ntest\\n'"
      ]
     },
     "execution_count": 3,
     "metadata": {},
     "output_type": "execute_result"
    }
   ],
   "source": [
    "file = os.popen(\"ls\")\n",
    "file.read()"
   ]
  },
  {
   "cell_type": "markdown",
   "metadata": {},
   "source": [
    "# 多线程\n",
    "## 函数方式, 还可以类方式"
   ]
  },
  {
   "cell_type": "code",
   "execution_count": 9,
   "metadata": {},
   "outputs": [
    {
     "name": "stdout",
     "output_type": "stream",
     "text": [
      "In The thread 0\n",
      "In The thread 1\n",
      "In The thread 2\n",
      "Exit main Thread\n"
     ]
    }
   ],
   "source": [
    "import threading\n",
    "import time \n",
    "thread_cnt = 3\n",
    "def action(arg1, arg2, arg3):\n",
    "    time.sleep(arg1*3)\n",
    "    print(\"In The thread %d\" % arg1)\n",
    "    time.sleep(1)\n",
    "    \n",
    "thread_list = []\n",
    "for i in range(thread_cnt):\n",
    "    t =threading.Thread(target=action,args=(i, 2, 2))\n",
    "    t.setDaemon(True)\n",
    "    thread_list.append(t)\n",
    "\n",
    "for t in thread_list:\n",
    "    t.start()\n",
    "\n",
    "for t in thread_list:\n",
    "    t.join()\n",
    "    \n",
    "print(\"Exit main Thread\")\n"
   ]
  },
  {
   "cell_type": "markdown",
   "metadata": {},
   "source": [
    "# 常用替换shell命令函数\n",
    "\n",
    "## mkdir -p \n"
   ]
  },
  {
   "cell_type": "code",
   "execution_count": 10,
   "metadata": {},
   "outputs": [],
   "source": [
    "def mkdir_p(path):\n",
    "    try:\n",
    "        os.makedirs(path)\n",
    "    except OSError as exc:\n",
    "        if exc.errno == errno.EEXIST and os.path.isdir(path):\n",
    "            pass\n",
    "        else: \n",
    "            raise"
   ]
  }
 ],
 "metadata": {
  "kernelspec": {
   "display_name": "Python 3",
   "language": "python",
   "name": "python3"
  },
  "language_info": {
   "codemirror_mode": {
    "name": "ipython",
    "version": 3
   },
   "file_extension": ".py",
   "mimetype": "text/x-python",
   "name": "python",
   "nbconvert_exporter": "python",
   "pygments_lexer": "ipython3",
   "version": "3.5.2"
  }
 },
 "nbformat": 4,
 "nbformat_minor": 2
}
