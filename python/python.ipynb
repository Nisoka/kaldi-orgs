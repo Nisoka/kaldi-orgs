{
 "cells": [
  {
   "cell_type": "markdown",
   "metadata": {},
   "source": [
    "遍历列表\n",
    "listdir 方法: https://www.cnblogs.com/renfanzi/p/8243777.html\n",
    "    这种方法与ls相同\n",
    "os.walk 方法: https://www.cnblogs.com/ivictor/p/4362463.html\n",
    "    这种方法会递归进行"
   ]
  },
  {
   "cell_type": "code",
   "execution_count": 8,
   "metadata": {},
   "outputs": [
    {
     "name": "stdout",
     "output_type": "stream",
     "text": [
      "./\n",
      "['test', '.ipynb_checkpoints']\n",
      "['python.ipynb']\n",
      "./test\n",
      "[]\n",
      "[]\n",
      "./.ipynb_checkpoints\n",
      "[]\n",
      "['python-checkpoint.ipynb']\n"
     ]
    }
   ],
   "source": [
    "import os\n",
    "for root, dir, file in os.walk('./'):\n",
    "    print(root)\n",
    "    print(dir)\n",
    "    print(file)"
   ]
  },
  {
   "cell_type": "code",
   "execution_count": null,
   "metadata": {},
   "outputs": [],
   "source": []
  },
  {
   "cell_type": "code",
   "execution_count": null,
   "metadata": {},
   "outputs": [],
   "source": []
  }
 ],
 "metadata": {
  "kernelspec": {
   "display_name": "Python 3",
   "language": "python",
   "name": "python3"
  },
  "language_info": {
   "codemirror_mode": {
    "name": "ipython",
    "version": 3
   },
   "file_extension": ".py",
   "mimetype": "text/x-python",
   "name": "python",
   "nbconvert_exporter": "python",
   "pygments_lexer": "ipython3",
   "version": "3.5.2"
  }
 },
 "nbformat": 4,
 "nbformat_minor": 2
}
