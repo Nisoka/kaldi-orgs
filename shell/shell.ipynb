{
 "cells": [
  {
   "cell_type": "markdown",
   "metadata": {},
   "source": [
    "# Base \n",
    "## for\n",
    "\n",
    "### 循环数字 \n",
    "for ((i=1; i<=100; i ++))  \n",
    "do  \n",
    "    echo $i  \n",
    "done  \n",
    "\n",
    "for i in `seq 1 100`  \n",
    "do  \n",
    "    echo $i  \n",
    "done  \n",
    "\n",
    "for i in {1..100}  \n",
    "do  \n",
    "    echo $i  \n",
    "done  \n",
    "\n",
    "###  循环文件\n",
    "**推荐while read line, for line 方法会按照tab符号进行分割, 并不按行分割**\n",
    "\n",
    "cat file | while read line\n",
    "do \n",
    "    echo $line\n",
    "done\n",
    "\n",
    "for seg in `cat file`\n",
    "do\n",
    "    echo $seg\n",
    "done\n",
    "\n"
   ]
  }
 ],
 "metadata": {
  "kernelspec": {
   "display_name": "Python 3",
   "language": "python",
   "name": "python3"
  },
  "language_info": {
   "codemirror_mode": {
    "name": "ipython",
    "version": 3
   },
   "file_extension": ".py",
   "mimetype": "text/x-python",
   "name": "python",
   "nbconvert_exporter": "python",
   "pygments_lexer": "ipython3",
   "version": "3.5.2"
  }
 },
 "nbformat": 4,
 "nbformat_minor": 2
}
