{
 "cells": [
  {
   "cell_type": "markdown",
   "metadata": {},
   "source": [
    "# NIST 2016 Speaker Recognition Evaluation Plan\n",
    "说话人识别评估准则\n",
    "\n",
    "## 1 Miss  /  False alarm \n",
    "\n",
    "scores [0.0, 0.1, 0.2, 0.3, 0.4, 0.5, 0.6, 0.7, 0.8, 0.9]  \n",
    "label  [0,   1,   0,   0,   0,   1,   0,   1,   1,   1  ]  \n",
    "对于门限选择, 可以遍历 scores 的每个得分.   \n",
    "当以 0.2 为门限时,   \n",
    "result [0,   0,   0,   1,   1,   1,   1,   1,   1,   1  ]  \n",
    "label[1]                  被识别为false, 但是实际label是个1, 被漏检了 所以是个Miss.  \n",
    "而对于label[3] label[4]    被识别为true,  但是实际label是个0, 被错误认证了, False alarm 错误提醒.  \n",
    "     \n",
    "某个门限的 Miss 可以通过 Miss个数/总的1数目得到, 本该正的,被漏掉检测为负的比率  \n",
    "某个门限的 FA   可以通过 FA个数 / 总的0数目得到, 本该负的,被错误认正的比率. 也可以通过 (1- 真负/总0数目)(负的被检测为负的的比率).  \n",
    "\n"
   ]
  }
 ],
 "metadata": {
  "kernelspec": {
   "display_name": "Python 3",
   "language": "python",
   "name": "python3"
  },
  "language_info": {
   "codemirror_mode": {
    "name": "ipython",
    "version": 3
   },
   "file_extension": ".py",
   "mimetype": "text/x-python",
   "name": "python",
   "nbconvert_exporter": "python",
   "pygments_lexer": "ipython3",
   "version": "3.5.2"
  }
 },
 "nbformat": 4,
 "nbformat_minor": 2
}
