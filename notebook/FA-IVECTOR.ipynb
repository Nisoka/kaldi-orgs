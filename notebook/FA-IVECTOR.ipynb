{
 "cells": [
  {
   "cell_type": "markdown",
   "metadata": {},
   "source": [
    "# Lecture Notes on Factor Analysis and I-Vectors\n",
    "## Abstract \n",
    "该文档 提供了FA 因子分析模型的详细的公式, 因子分析模型 认为观测变量实际由低维空间的隐变量**真实数据(真实分布)** 以及噪声生成, 低维空间由V矩阵描述.\n",
    "因子分析模型, 认为 观测变量 服从 混合高斯模型GMM , 隐变量的先验概率是高斯分布. \n",
    "通过因子分析模型, 将一句utt 抽取为固定长度的隐变量 ivector\n",
    "\n",
    "## Factor Analysis\n",
    "X = {$x_1$, $x_2$ .. $x_n$} 是 R 维向量训练集合.\n",
    "因子分析模型认为 某个$x_i$, 是根据如下模型 由 $z_i$ 生成\n",
    "$$ X_i = m + Vz_i + \\epsilon_i\\tag{1} $$\n",
    "m 是 X的均值, \n",
    "V 是一个低秩矩阵R X D, \n",
    "$z_i$ 是D维 隐变量因子, 服从$N(z|0, I)$,\n",
    "$\\epsilon_i$ 是 残余噪声, 服从$N(z|0, \\Sigma)$,\n",
    "\n",
    "x 的边缘分布为\n",
    "$$ \\begin{eqnarray}\n",
    "    p(X)& = & \\int {p(x|z)p(z)} {\\rm d}x \\\\\n",
    "    & = & \\int {N(x|m + Vz, \\Sigma)N(z|0, I)} {\\rm d}x\\tag{2}  \\\\\n",
    "    & = & N(x|m, VV^T + \\Sigma)\n",
    "\\end{eqnarray} $$\n",
    "由此, p(X) 也是一个 高斯分布\n",
    "\n",
    "## EM 算法\n",
    "### M-step 最大化 联合概率似然(先计算E步 或M步没关系)\n",
    "令 参数集合为 $ w = {m , V, \\Sigma} $ \n",
    "$$ \\begin{eqnarray}\n",
    "    Q(w) & = & E_z ln p(X, Z| w) \\\\\n",
    "    & = & E_z\\big\\{\\sum_i {ln p(x_i | z_i, w) p(z_i)}\\big\\} \\\\\n",
    "    & = & E_z\\Big\\{\\sum_i {ln [N(x_i | m + V z_i, \\Sigma) N(z_i|0, I)]} \\Big\\}  \n",
    "\\end{eqnarray} $$\n",
    "\n",
    "\n",
    "\n"
   ]
  }
 ],
 "metadata": {
  "kernelspec": {
   "display_name": "Python 3",
   "language": "python",
   "name": "python3"
  },
  "language_info": {
   "codemirror_mode": {
    "name": "ipython",
    "version": 3
   },
   "file_extension": ".py",
   "mimetype": "text/x-python",
   "name": "python",
   "nbconvert_exporter": "python",
   "pygments_lexer": "ipython3",
   "version": "3.5.2"
  }
 },
 "nbformat": 4,
 "nbformat_minor": 2
}
