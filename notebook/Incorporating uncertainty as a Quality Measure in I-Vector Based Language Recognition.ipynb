{
 "cells": [
  {
   "cell_type": "markdown",
   "metadata": {},
   "source": [
    "# Incorporating uncertainty as a Quality Measure in I-Vector Based Language Recognition\n",
    "\n",
    "组合不确定性作为一个测量变量 在 ivector-based 的语种识别中. \n",
    "基础的ivector语种识别中, 其中 ivector提取之后剩余的信息 在协方差中, 这个协方差 并不带有utt内容信息, 但是带有的一些信息是对识别有效果的.  \n",
    "将该协方差, 取 trace, 得到一个变量值, 这个变量值经过实验, 是与语段长度相关 0.98, 说明, 这个量和语段时长由很大关系, 将这个变量直接增加到ivector向量中, 做新的ivector , 识别效果会有增加"
   ]
  }
 ],
 "metadata": {
  "kernelspec": {
   "display_name": "Python 3",
   "language": "python",
   "name": "python3"
  },
  "language_info": {
   "codemirror_mode": {
    "name": "ipython",
    "version": 3
   },
   "file_extension": ".py",
   "mimetype": "text/x-python",
   "name": "python",
   "nbconvert_exporter": "python",
   "pygments_lexer": "ipython3",
   "version": "3.5.2"
  }
 },
 "nbformat": 4,
 "nbformat_minor": 2
}
