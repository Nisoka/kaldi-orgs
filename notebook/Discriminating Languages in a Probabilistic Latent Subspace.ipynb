{
 "cells": [
  {
   "cell_type": "markdown",
   "metadata": {},
   "source": [
    "# Discriminating Languages in a Probabilistic Latent Subspace\n",
    "\n",
    "提供了一个方法, 提升PLDA的区分能力. 最后, 我们聚焦与PLDA的低维隐变量空间, 我们利用MMI最大互信息优化模型以及损失函数. \n",
    "## MMI fine-tuning \n",
    "最大化互信息调整 ivector模型参数.\n",
    "## cost fine-tuning \n",
    "使用类似最大互信息的方式修改损失函数, "
   ]
  }
 ],
 "metadata": {
  "kernelspec": {
   "display_name": "Python 3",
   "language": "python",
   "name": "python3"
  },
  "language_info": {
   "codemirror_mode": {
    "name": "ipython",
    "version": 3
   },
   "file_extension": ".py",
   "mimetype": "text/x-python",
   "name": "python",
   "nbconvert_exporter": "python",
   "pygments_lexer": "ipython3",
   "version": "3.5.2"
  }
 },
 "nbformat": 4,
 "nbformat_minor": 2
}
