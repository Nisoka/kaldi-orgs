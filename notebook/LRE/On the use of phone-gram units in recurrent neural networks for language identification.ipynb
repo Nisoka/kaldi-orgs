{
 "cells": [
  {
   "cell_type": "markdown",
   "metadata": {},
   "source": [
    "# On the use of phone-gram units in recurrent neural networks for language identification\n",
    "\n",
    "本文 提供了结果, 使用不同phone-gram语法阶数和音素识别系统, 训练的RNN-based LM 打分系统.    \n",
    "为了避免稀疏性问题和降低所有可能的n-gram的组合的词数量, 使用音素向量聚类处理方法 嵌入作为一个预处理步骤,  附加的实验用来优化分类数量, 批大小, 隐藏神经元,状态展开.   \n",
    "多亏了聚类技术 以及组合音素语法模型, 我们的音素识别系统 比 unigram的RNNLM 系统提高了13%准确率.  \n",
    "最后, 获得的RNNLM打分 被校准 然后 熔合从声学ivector系统 传统PPRLM(并行语言模型)的得分.   熔合后的结果有很大提升,显示了这样的熔合对语种识别系统 提供了互补的信息.   \n",
    "\n",
    "# Introduction\n",
    "语种识别是 利用已知的训练好的语言模型 对一段语音进行识别其语种的流程系统. 当前有两种主要方法:  \n",
    "1 从语音段直接抽取声学特征  \n",
    "2 使用从语音识别系统对语音段进行语音识别的到的 转录结果(一般是 phone序列)作为特征.   \n",
    "一般来说 基于声学的系统具有更好的结果, 当两种特征熔合起来, 组合基于音素的识别系统具有更好的结果.  \n",
    "本文主要关注提升 使用和PPRLM系统相同结构的基于音素的系统的结果.   这种情况下, 该系统增加了两个组件:  \n",
    "1 前端, 多个并行因素识别系统 用来语音的生成音素序列\n",
    "2 后端, 生成的音素序列用来训练不同的语言模型(每种语言一个), 语言模型得分最后进行比较, 然后选择语言模型输出最低复杂度的结果的语种作为识别的语种.     \n",
    "   \n",
    "   \n",
    "因为每个语种的语言模型得分是有偏的, 因为每个语言模型使用的不同的音素单元, 所以需要一个校准步骤在识别之前. \n",
    "\n",
    "section 2 phone-gram 模型单元的原理\n",
    "section 3 不同的 音素级别RNN-LM 语言模型, 声学模型\n",
    "section 4 结果\n",
    "section 5 结论和未来工作.\n"
   ]
  }
 ],
 "metadata": {
  "kernelspec": {
   "display_name": "Python 3",
   "language": "python",
   "name": "python3"
  },
  "language_info": {
   "codemirror_mode": {
    "name": "ipython",
    "version": 3
   },
   "file_extension": ".py",
   "mimetype": "text/x-python",
   "name": "python",
   "nbconvert_exporter": "python",
   "pygments_lexer": "ipython3",
   "version": "3.5.2"
  }
 },
 "nbformat": 4,
 "nbformat_minor": 2
}
