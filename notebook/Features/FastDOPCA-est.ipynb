{
 "cells": [
  {
   "cell_type": "markdown",
   "metadata": {},
   "source": [
    "#  一 种面向数据学习的快速 PCA 算法\n",
    "\n",
    "## Algorithm FastDOPCA\n",
    "p个特征向量的 FastDOPCA , 逐个求 k = 1 ... p 个特征向量  \n",
    "\n",
    "*step 1  k=1 随机初始化 权重向量$w_k$*   \n",
    "并保存验证是否收敛向量 $w_k^*$ , 当收敛时, 权重向量 $w_k$ 便是对应的特征向量  \n",
    "    \n",
    "    \n",
    "*step 2  更新权重向量 $w_k$ *\n",
    "$$ w_k^+ = E\\{w_k^T x_i  x_i\\} $$   \n",
    "**注意: 此时 是要求一个特征向量, 特征向量可以通过对每个x样本加权期望求得, 所以并不能用矩阵乘法.**\n",
    "\n",
    "*step 3  归一化权重向量* \n",
    "$$ w_k = w_k^+ / || w_k^+ || $$   \n",
    "$|| w_k^*||$ 求每个元素的平方开根号. 实现归一化.    \n",
    "    \n",
    "      \n",
    "*step 4  判断$w_k$是否收敛*   \n",
    "$$ abs(w_k^T w_k^* - 1) < \\epsilon $$  \n",
    "$\\epsilon$ 可以选为 0.0001 极小可以, 论文中写的是 1.0e-15.  \n",
    "若未收敛, 继续保存判断收敛向量 $w_k^* = w_k $, 返回step 2  \n",
    "若 收敛, 则转到 step 5  \n",
    "    \n",
    "    \n",
    "     \n",
    "    \n",
    "*step 5  紧缩样本, 利用特征向量在余下特征子空间收敛性 初始化新特征向量.*\n",
    "$$X = X - w_k(w_k^T X) $$\n",
    "**注意 紧缩样本, 是每次迭代都要进行的.**  \n",
    "\n",
    "计算 $w_k$ 在余下特征子空间投影 \n",
    "$$\\xi = w_k^* - w_k(w_k^T w_k^*) $$\n",
    "\n",
    "*step 6  计算下一个特征向量 k = k + 1, 以上一个特征向量的余下子空间投影$\\xi$为初始值* \n",
    "$$ w_k = \\xi / ||\\xi|| $$ , \n",
    "保存收敛验证向量 $ w_k^* = w_k$ , \n",
    "返回step 2 继续更新第k个特征向量. "
   ]
  }
 ],
 "metadata": {
  "kernelspec": {
   "display_name": "Python 3",
   "language": "python",
   "name": "python3"
  },
  "language_info": {
   "codemirror_mode": {
    "name": "ipython",
    "version": 3
   },
   "file_extension": ".py",
   "mimetype": "text/x-python",
   "name": "python",
   "nbconvert_exporter": "python",
   "pygments_lexer": "ipython3",
   "version": "3.5.2"
  }
 },
 "nbformat": 4,
 "nbformat_minor": 2
}
