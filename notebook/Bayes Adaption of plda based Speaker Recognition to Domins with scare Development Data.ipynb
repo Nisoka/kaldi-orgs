{
 "cells": [
  {
   "cell_type": "markdown",
   "metadata": {},
   "source": [
    "# Bayes Adaption of plda based Speaker Recognition to Domins with scare Development Data\n",
    "基于 beyas自适应的plda方法 说话人识别 在 少量训练数据领域的方法.  \n",
    "\n",
    "# Abstract \n",
    "当前最佳的说话人验证方法 是 ivector + PLDA,  这个模型 依赖于训练数据, 必须要由足够多的spker, 每个spker要有尽量多的utts. 在NISR数据集中这个方法效果很好, 但是当我们在一个训练数据集缺乏的领域时, 训练一个较好的模型就相当复杂了.   \n",
    "因为PLDA是训练类内 类间提取矩阵, 因此需要足够多的spker, 以及spker需要足够多的utt. 而某些数据集比较缺乏这样的信息, 这样的数据集不太匹配PLDA模型方法.   \n",
    "本论文提出一个方法, 从一个具有充分多说话人数据领域训练好的PLDA模型参数, 经过beyas 自适应方法 自适应PLDA的参数 到缺少训练数据领域 得到一个较好的PLDA参数.  \n",
    "该方法的核心是 变分贝叶斯方法. 本论文中自适应的模型是从 NISR训练得到, 然后自适应到 EVALITA09. 有不错的结果.\n",
    "\n",
    "\n",
    "# 1 Introduce \n",
    "之前有一些工作, 处理数据集合不匹配PLDA模型原理的方法. \n",
    "在本文工作中, 我们处理数据不匹配使用另外一个方法, 我们假设我们已经有了一个模型, 是通过其他具有充分数据的数据集中训练得到的, 然后我们具有的数据集是不匹配PLDA模型的 缺乏信息的数据集. 我们使用Bayes方法 将原始数据训练的PLDA模型经过自适应到 我们感兴趣的数据上, 我们比较了这个方法 和 ivector 长度归整.   \n",
    "  \n",
    "section 2, ivector, plda  \n",
    "section 3, bayes 自适应方法, 以及如何获得近似的 PLDA参数的后验分布, 通过变分贝叶斯方法  \n",
    "section 4, 实验设置 实验结果.  \n",
    "\n",
    "  \n",
    "  \n",
    "# 2 ivector spker recognition  framwork\n",
    "$$ M = m + W \\phi $$\n",
    "$ \\phi $ 是高斯分布向量,  经过最大后验概率估计隐变量 $ \\phi $ 就得到我们需要的 ivector.  \n",
    "W 矩阵是通过 大量数据集 计算得到.  \n",
    "\n",
    "## 2.2 Two-covariance model \n",
    "双协方差模型  \n",
    "我们可以建模ivector的分布 是两个协方差模型的组合. 是一个生成模型, 该模型假设某个spker s 的ivector $\\phi$由两部分组成:  \n",
    "$$ \\phi = y_s + \\epsilon $$ \n",
    "$y_s$ 是说话人识别信息, $\\epsilon$ 是信道偏移信息, 模型M 通过如下两个概率分布描述:  \n",
    "$$ P(y | M) = N(y | \\mu, B^{-1}) \\tag{3}$$ \n",
    "$$ P(\\phi | y, M) = N(\\phi | y, W^{-1}) \\tag{4} $$  \n",
    "$\\mu$ 是所有人 分布均值  \n",
    "B 是说话人之间的区别信息  \n",
    "W 是说话人内 区别信息.  \n",
    "这些参数通过充分数据的 极大似然估计可以计算.\n"
   ]
  },
  {
   "cell_type": "markdown",
   "metadata": {},
   "source": [
    "# 3. Bayesian adaptation of the PLDA mod\n",
    "如何实现 PLDA 从一个充分数据训练的PLDA 适应到 不充足数据上, 得到一个结果 PLDA.   \n",
    "\n",
    "$$ M = (\\mu, B, W) $$ \n",
    "$$ M_y = (\\mu, B) $$ \n",
    "\n",
    "## 3.2 Bayes adaption \n",
    "根据bayes处理方法, 并不假设$(\\mu, B, W) $ 参数是固定值(假设固定值, 然后经过最大后验概率估计, 这是频率学派观点), 而建模 模型参数是服从概率分布, 为实现这样的模型我们需要模型参数的先验概率, $ P(M_y | \\prod_{M_y} )$ 和 $ P(W | \\prod_{W}) $ , 然后在计算参数在给定数据和先验概率的 后验概率分布结果为:  \n",
    "$$ P( M | \\Phi, \\theta, \\prod{M_y} , \\prod{W} ) $$\n",
    "$\\Phi$ 是观测值 ivector   \n",
    "$ \\mu, B, W, Y $ 是隐变量   \n",
    "$ \\theta, \\prod{M_y}, \\prod{W} $ 是确定性参数（不是一个连乘符号）??   \n",
    "  \n",
    "   \n",
    "   \n",
    "Bayes自适应方法, 由三个步骤及阶段  \n",
    "1 在给定先验数据下, 估计参数的后验概率  \n",
    "$$ P(M | \\Phi_{d}, \\theta_{d}, \\prod ) $$  \n",
    "  \n",
    "2 计算 实际数据下 模型参数的后验概率   \n",
    "$$　P(M | \\prod_{d}) = P(M|\\Phi_{d}, \\theta_{d}, \\prob) $$ \n",
    "我们使用　先验数据的后验概率　作为　实际数据的先验概率　来计算最终的参数后验概率分布．　　\n",
    "　　\n",
    "3 最终对于该后验概率 我们取期望就得到了 参数的估计值.  \n",
    "  \n",
    "然而不幸的是, 即使是简单的 PLDA模型 也不容易表示引入的后验概率, 我们使用 变分bayes方法 计算近似的后验概率, 下一张我们描述两个协方差的PLDA的 变分bayes方法. 假设具有两种不同类型的先验概率 -- 无信息先验 和 结合先验   \n",
    "\n",
    "\n",
    "\n",
    "变分贝叶斯方法  PRML"
   ]
  },
  {
   "cell_type": "code",
   "execution_count": null,
   "metadata": {},
   "outputs": [],
   "source": []
  }
 ],
 "metadata": {
  "kernelspec": {
   "display_name": "Python 3",
   "language": "python",
   "name": "python3"
  },
  "language_info": {
   "codemirror_mode": {
    "name": "ipython",
    "version": 3
   },
   "file_extension": ".py",
   "mimetype": "text/x-python",
   "name": "python",
   "nbconvert_exporter": "python",
   "pygments_lexer": "ipython3",
   "version": "3.5.2"
  }
 },
 "nbformat": 4,
 "nbformat_minor": 2
}
