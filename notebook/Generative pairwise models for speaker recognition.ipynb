{
 "cells": [
  {
   "cell_type": "markdown",
   "metadata": {},
   "source": [
    "# Generative pairwise models for speaker recognition\n",
    "生成成对模型 用来 说话人识别\n",
    "\n",
    "# Abstract \n",
    "本文基于ivector对, 提出一个简单模型, 然后分析 与当前最佳的 PLDA PSVM的相似与不同.  \n",
    "这个模型基于两个高斯分布, 一个是 ivector对 来自相同spker, 另一个ivector对来自不同spker??? 并且假设 ivector对, 是相互独立的.  \n",
    "我们分析显示 这个模型和 PLDA PSVM都很相似. 并且对比其他模型,能够得到不错的效果.\n",
    "\n",
    "# Introduction\n",
    "PLDA 分类器 在概率框架下 建模了ivector内 spker 和 信道组件的概率分布, 从这些分布,我们可以计算出 一个ivector对 是否属于同一个spker的似然比.  \n",
    "相同的训练范例可以用来训练区分系统, 当遇到观测模式是成对 ivector情况时.   \n",
    "在特定的线性判别分类器中 例如 PSVM, lg回归, 都可以达到最佳效果.   \n",
    "\n",
    "本文提出了一个简单的模型来spker recognition, 基于 ivector对.   \n",
    "这个模型基于 两个高斯分布, 一个是对于相同spker ivector对,  另一个对于不同spker ivector对, 并且假设 ivector是相互独立的.  \n",
    "我们详细描述 两个高斯分布的 精度矩阵, 并且描述如何高效的估计分布参数.  \n",
    "而且 因为这个独立性假设, 分布可以独立的估计, 我们的两个高斯模型 被称为2-GAU, 可以容易的扩展为 2-Heavy分布   \n",
    "\n",
    "section 2 PLDA 模型 和 其家族 简化PLDA模型 2-Cov模型    \n",
    "section 3 PSVM 模型   \n",
    "section 4 2-Gaussion 模型\n",
    "\n",
    "\n"
   ]
  },
  {
   "cell_type": "markdown",
   "metadata": {},
   "source": [
    "# 4 Generative Tow-Gaussian Model \n",
    "２-Gau 生成模型\n",
    "PLDA模型以及其模型家族, 都是为了建模ivector内部的spker 和 channel组件的分布, 但是本文提出的模型 是直接以 成对的ivector-pair \n",
    "$ \\Phi = [\\phi_1, \\phi_2] $ 为特征, 建模一个简单的高斯分布.   \n",
    "\n",
    "\n",
    "这个方法 好像是 计算简单 但是给予的假设是不正确的, 但是效果和 PLDA 相当."
   ]
  }
 ],
 "metadata": {
  "kernelspec": {
   "display_name": "Python 3",
   "language": "python",
   "name": "python3"
  },
  "language_info": {
   "codemirror_mode": {
    "name": "ipython",
    "version": 3
   },
   "file_extension": ".py",
   "mimetype": "text/x-python",
   "name": "python",
   "nbconvert_exporter": "python",
   "pygments_lexer": "ipython3",
   "version": "3.5.2"
  }
 },
 "nbformat": 4,
 "nbformat_minor": 2
}
