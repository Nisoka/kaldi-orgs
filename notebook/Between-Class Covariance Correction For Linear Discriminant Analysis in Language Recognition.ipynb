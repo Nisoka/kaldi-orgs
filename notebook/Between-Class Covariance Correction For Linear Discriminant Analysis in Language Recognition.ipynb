{
 "cells": [
  {
   "cell_type": "markdown",
   "metadata": {},
   "source": [
    "# Between-Class Covariance Correction For Linear Discriminant Analysis in Language Recognition\n",
    "\n",
    "LDA 是广泛使用的信道补偿技术, 本文介绍了一种类间协方差归整方法(BCC), 提升语种识别性能.  \n",
    "BCC方法是受到类内协方差归整方法(WCC)的想法启发设计的,  \n",
    "WCC引入一个均值,在声纹识别时补偿不同开发数据集之间的不匹配问题.\n",
    "BCC中, 我们计算特征方向 来 描述langugage ivector的不同分布情况. 结果显示, 在LDA中合并这些特征方向, 能够提升性能.\n",
    "认为 在不同情况ivector分布下的聚类簇都是一个单独的类别, 在簇类的类内 类间下方差矩阵, 可以用来更新全局语种的类内 类间协方差.  \n",
    "对于BCC 就只需要更新 类间协方差矩阵.  \n",
    "使用这种方法, 能够得到 8.4 的 EER提升.  \n"
   ]
  },
  {
   "cell_type": "markdown",
   "metadata": {},
   "source": [
    "# Introduction\n",
    "最近的语种识别方法都是给予 DNN ivector开发的, 然而任何ivector 提取方法之后, 在判别之前都必须要去除类内样本间影响, 进行信道补偿.  \n",
    "在本文中, 主要研究基于 自适应LDA的信道补偿 方法提升性能.  \n",
    "该方法的主要动机是 尽可能的利用额外的相关语种内聚类簇的信息 来提升我们的系统性能.  \n",
    "在分析数据时, 我们发现, 某语种的全部的ivector 是多情况分布的(类内可聚类为类簇), 每个情况都可以建模对应为一个单独的语种类簇.  \n",
    "相同的结论观测 也在语种识别中被发现, 这些作者发现, 基于多来源数据的 speaker ivector会具有 多情况的分布, 每个分布情况都直接对应为一种信源. \n",
    "他们大部分都是为不同的数据集计算一个 Between-Database 的 协方差矩阵, 然后在LDA的类间协方差矩阵上 增加该矩阵, 这样就能够去除 LDA算法中不同数据集的偏移的特征方向. 实现更进一步的信道补偿.\n"
   ]
  }
 ],
 "metadata": {
  "kernelspec": {
   "display_name": "Python 3",
   "language": "python",
   "name": "python3"
  },
  "language_info": {
   "codemirror_mode": {
    "name": "ipython",
    "version": 3
   },
   "file_extension": ".py",
   "mimetype": "text/x-python",
   "name": "python",
   "nbconvert_exporter": "python",
   "pygments_lexer": "ipython3",
   "version": "3.5.2"
  }
 },
 "nbformat": 4,
 "nbformat_minor": 2
}
