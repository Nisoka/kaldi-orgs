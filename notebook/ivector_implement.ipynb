{
 "cells": [
  {
   "cell_type": "markdown",
   "metadata": {
    "collapsed": true
   },
   "source": [
    "# Implementation of the Standard I-vector System for the Kaldi Speech Recognition Toolkit\n",
    "## Standard I-Vector system\n",
    "i-vector 是对一个utt的固定长度的表示, utt 从ubm 自适应得到的超向量 s, 可以表示为 ubm超矢量均值m 以及全异变空间因子影响Tw\n",
    "$$ s = m + Tw $$\n",
    "T 定义了一个低维的因子空间, w 是生成 utt 超向量s 的因子.\n",
    "F 是MFCC特征维度, C是UBM 混合组件数量, 那么m -- 1 X CF\n",
    "UBM 描述了一个MFCC特征的分布概率, 对于一个x有\n",
    "$$ P(x|\\theta) = \\sum\\limits_{c=1}^C \\omega_c N(x; \\mu_c, \\Sigma_c) $$\n",
    "\n",
    "经过推导 [Lecture Notes on Factor Analysis and I-Vectors] \n",
    "\n",
    "**E-step  计算w的后验概率**\n",
    "$$ P(w|X_s) $$\n",
    "\n",
    "**M-step 最大化Q函数, 更新T \\Sigma**\n",
    "$$ T, \\Sigma = \\mathop{\\arg\\max}\\limits_{T,\\Sigma} Q({T, \\Sigma}) $$\n",
    "\n",
    "\n",
    "\n"
   ]
  },
  {
   "cell_type": "code",
   "execution_count": null,
   "metadata": {},
   "outputs": [],
   "source": []
  },
  {
   "cell_type": "code",
   "execution_count": null,
   "metadata": {},
   "outputs": [],
   "source": []
  }
 ],
 "metadata": {
  "kernelspec": {
   "display_name": "Python 3",
   "language": "python",
   "name": "python3"
  },
  "language_info": {
   "codemirror_mode": {
    "name": "ipython",
    "version": 3
   },
   "file_extension": ".py",
   "mimetype": "text/x-python",
   "name": "python",
   "nbconvert_exporter": "python",
   "pygments_lexer": "ipython3",
   "version": "3.5.2"
  }
 },
 "nbformat": 4,
 "nbformat_minor": 1
}
